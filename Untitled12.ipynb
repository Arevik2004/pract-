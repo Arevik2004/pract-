{
  "nbformat": 4,
  "nbformat_minor": 0,
  "metadata": {
    "colab": {
      "provenance": []
    },
    "kernelspec": {
      "name": "python3",
      "display_name": "Python 3"
    },
    "language_info": {
      "name": "python"
    }
  },
  "cells": [
    {
      "cell_type": "code",
      "execution_count": null,
      "metadata": {
        "id": "6EXAR-xC6gzh"
      },
      "outputs": [],
      "source": []
    },
    {
      "cell_type": "markdown",
      "source": [
        "## Практическаяф работа №2 ##"
      ],
      "metadata": {
        "id": "5K1wmuGK6oPl"
      }
    },
    {
      "cell_type": "code",
      "source": [
        "# №1 1. Для считывания данных из файла iris.csv, который содержит значения, разделенные точкой с запятой (;), в датафрейм Pandas, вы можете использовать функцию read_csv из библиотеки Pandas. Важно указать правильный разделитель, поскольку по умолчанию read_csv ожидает запятую (,) в качестве разделителя. Также стоит присмотреться к пробелам после разделителей, если они есть в вашем файле.\n",
        "\n",
        "#Вот пример команды для считывания вашего файла:\n",
        "import pandas as pd\n",
        "\n",
        "# Считываем данные из файла iris.csv в датафрейм\n",
        "data = pd.read_csv('iris.csv', sep=';')\n",
        "\n",
        "# Выводим первые 5 строк датафрейма для проверки\n",
        "print(data.head())\n",
        "#Пояснение к коду:\n",
        "#-Импорт Pandas: Сначала мы импортируем библиотеку Pandas под псевдонимом pd.\n",
        "#-Чтение файла: Функция pd.read_csv() используется для загрузки данных из файла. Аргумент delimiter=';' указывает, что в качестве разделителя полей в файле используется точка с запятой (;). Это важно, поскольку данные в вашем файле разделены точками с запятой, и если не указать этот параметр, Pandas не сможет правильно разделить столбцы.\n",
        "#-Просмотр данных: С помощью data.head(), вы можете просмотреть первые пять строк загруженного датафрейма, чтобы убедиться, что данные считаны корректно."
      ],
      "metadata": {
        "id": "3d2SwGo27QMX"
      },
      "execution_count": null,
      "outputs": []
    },
    {
      "cell_type": "markdown",
      "source": [
        "\n",
        "#№ 2. Для выполнения описанных операций в Python можно использовать библиотеку pandas. Вот пошаговое руководство:\n",
        "\n",
        "Загрузите данные в DataFrame.\n",
        "Удалите дубликаты.\n",
        "Выберите строки с индекса 69 по 322.\n",
        "Отсортируйте результат по колонке 'Distance' по убыванию.\n",
        "Получите значение колонки 'Style' во второй строке после сортировки.\n",
        "Пример кода:\n",
        "\n",
        "Для выполнения описанных операций в Python с использованием библиотеки pandas, вот пример кода:\n"
      ],
      "metadata": {
        "id": "Prdik-SuAekj"
      }
    },
    {
      "cell_type": "code",
      "source": [
        "import pandas as pd\n",
        "\n",
        "# Загрузка данных в DataFrame\n",
        "data = pd.read_csv('your_data.csv')\n",
        "\n",
        "# Удаление дубликатов\n",
        "data = data.drop_duplicates()\n",
        "\n",
        "# Выбор строк с индекса 69 по 322\n",
        "data_subset = data.iloc[69:323]\n",
        "\n",
        "# Сортировка результатов по колонке 'Distance' по убыванию\n",
        "sorted_data = data_subset.sort_values(by='Distance', ascending=False)\n",
        "\n",
        "# Получение значения колонки 'Style' во второй строке после сортировки\n",
        "style_value = sorted_data.iloc[1]['Style']\n",
        "\n",
        "# Вывод результатов\n",
        "print(sorted_data)\n",
        "print(\"Значение 'Style' во второй строке после сортировки: \", style_value)\n"
      ],
      "metadata": {
        "colab": {
          "base_uri": "https://localhost:8080/",
          "height": 373
        },
        "collapsed": true,
        "id": "xxB2R30RAlv-",
        "outputId": "9871a435-9a13-43b0-ee4c-a73e8b895532"
      },
      "execution_count": null,
      "outputs": [
        {
          "output_type": "error",
          "ename": "FileNotFoundError",
          "evalue": "[Errno 2] No such file or directory: 'your_data.csv'",
          "traceback": [
            "\u001b[0;31m---------------------------------------------------------------------------\u001b[0m",
            "\u001b[0;31mFileNotFoundError\u001b[0m                         Traceback (most recent call last)",
            "\u001b[0;32m<ipython-input-5-2368d943071a>\u001b[0m in \u001b[0;36m<cell line: 4>\u001b[0;34m()\u001b[0m\n\u001b[1;32m      2\u001b[0m \u001b[0;34m\u001b[0m\u001b[0m\n\u001b[1;32m      3\u001b[0m \u001b[0;31m# Загрузка данных в DataFrame\u001b[0m\u001b[0;34m\u001b[0m\u001b[0;34m\u001b[0m\u001b[0m\n\u001b[0;32m----> 4\u001b[0;31m \u001b[0mdata\u001b[0m \u001b[0;34m=\u001b[0m \u001b[0mpd\u001b[0m\u001b[0;34m.\u001b[0m\u001b[0mread_csv\u001b[0m\u001b[0;34m(\u001b[0m\u001b[0;34m'your_data.csv'\u001b[0m\u001b[0;34m)\u001b[0m\u001b[0;34m\u001b[0m\u001b[0;34m\u001b[0m\u001b[0m\n\u001b[0m\u001b[1;32m      5\u001b[0m \u001b[0;34m\u001b[0m\u001b[0m\n\u001b[1;32m      6\u001b[0m \u001b[0;31m# Удаление дубликатов\u001b[0m\u001b[0;34m\u001b[0m\u001b[0;34m\u001b[0m\u001b[0m\n",
            "\u001b[0;32m/usr/local/lib/python3.10/dist-packages/pandas/io/parsers/readers.py\u001b[0m in \u001b[0;36mread_csv\u001b[0;34m(filepath_or_buffer, sep, delimiter, header, names, index_col, usecols, dtype, engine, converters, true_values, false_values, skipinitialspace, skiprows, skipfooter, nrows, na_values, keep_default_na, na_filter, verbose, skip_blank_lines, parse_dates, infer_datetime_format, keep_date_col, date_parser, date_format, dayfirst, cache_dates, iterator, chunksize, compression, thousands, decimal, lineterminator, quotechar, quoting, doublequote, escapechar, comment, encoding, encoding_errors, dialect, on_bad_lines, delim_whitespace, low_memory, memory_map, float_precision, storage_options, dtype_backend)\u001b[0m\n\u001b[1;32m    910\u001b[0m     \u001b[0mkwds\u001b[0m\u001b[0;34m.\u001b[0m\u001b[0mupdate\u001b[0m\u001b[0;34m(\u001b[0m\u001b[0mkwds_defaults\u001b[0m\u001b[0;34m)\u001b[0m\u001b[0;34m\u001b[0m\u001b[0;34m\u001b[0m\u001b[0m\n\u001b[1;32m    911\u001b[0m \u001b[0;34m\u001b[0m\u001b[0m\n\u001b[0;32m--> 912\u001b[0;31m     \u001b[0;32mreturn\u001b[0m \u001b[0m_read\u001b[0m\u001b[0;34m(\u001b[0m\u001b[0mfilepath_or_buffer\u001b[0m\u001b[0;34m,\u001b[0m \u001b[0mkwds\u001b[0m\u001b[0;34m)\u001b[0m\u001b[0;34m\u001b[0m\u001b[0;34m\u001b[0m\u001b[0m\n\u001b[0m\u001b[1;32m    913\u001b[0m \u001b[0;34m\u001b[0m\u001b[0m\n\u001b[1;32m    914\u001b[0m \u001b[0;34m\u001b[0m\u001b[0m\n",
            "\u001b[0;32m/usr/local/lib/python3.10/dist-packages/pandas/io/parsers/readers.py\u001b[0m in \u001b[0;36m_read\u001b[0;34m(filepath_or_buffer, kwds)\u001b[0m\n\u001b[1;32m    575\u001b[0m \u001b[0;34m\u001b[0m\u001b[0m\n\u001b[1;32m    576\u001b[0m     \u001b[0;31m# Create the parser.\u001b[0m\u001b[0;34m\u001b[0m\u001b[0;34m\u001b[0m\u001b[0m\n\u001b[0;32m--> 577\u001b[0;31m     \u001b[0mparser\u001b[0m \u001b[0;34m=\u001b[0m \u001b[0mTextFileReader\u001b[0m\u001b[0;34m(\u001b[0m\u001b[0mfilepath_or_buffer\u001b[0m\u001b[0;34m,\u001b[0m \u001b[0;34m**\u001b[0m\u001b[0mkwds\u001b[0m\u001b[0;34m)\u001b[0m\u001b[0;34m\u001b[0m\u001b[0;34m\u001b[0m\u001b[0m\n\u001b[0m\u001b[1;32m    578\u001b[0m \u001b[0;34m\u001b[0m\u001b[0m\n\u001b[1;32m    579\u001b[0m     \u001b[0;32mif\u001b[0m \u001b[0mchunksize\u001b[0m \u001b[0;32mor\u001b[0m \u001b[0miterator\u001b[0m\u001b[0;34m:\u001b[0m\u001b[0;34m\u001b[0m\u001b[0;34m\u001b[0m\u001b[0m\n",
            "\u001b[0;32m/usr/local/lib/python3.10/dist-packages/pandas/io/parsers/readers.py\u001b[0m in \u001b[0;36m__init__\u001b[0;34m(self, f, engine, **kwds)\u001b[0m\n\u001b[1;32m   1405\u001b[0m \u001b[0;34m\u001b[0m\u001b[0m\n\u001b[1;32m   1406\u001b[0m         \u001b[0mself\u001b[0m\u001b[0;34m.\u001b[0m\u001b[0mhandles\u001b[0m\u001b[0;34m:\u001b[0m \u001b[0mIOHandles\u001b[0m \u001b[0;34m|\u001b[0m \u001b[0;32mNone\u001b[0m \u001b[0;34m=\u001b[0m \u001b[0;32mNone\u001b[0m\u001b[0;34m\u001b[0m\u001b[0;34m\u001b[0m\u001b[0m\n\u001b[0;32m-> 1407\u001b[0;31m         \u001b[0mself\u001b[0m\u001b[0;34m.\u001b[0m\u001b[0m_engine\u001b[0m \u001b[0;34m=\u001b[0m \u001b[0mself\u001b[0m\u001b[0;34m.\u001b[0m\u001b[0m_make_engine\u001b[0m\u001b[0;34m(\u001b[0m\u001b[0mf\u001b[0m\u001b[0;34m,\u001b[0m \u001b[0mself\u001b[0m\u001b[0;34m.\u001b[0m\u001b[0mengine\u001b[0m\u001b[0;34m)\u001b[0m\u001b[0;34m\u001b[0m\u001b[0;34m\u001b[0m\u001b[0m\n\u001b[0m\u001b[1;32m   1408\u001b[0m \u001b[0;34m\u001b[0m\u001b[0m\n\u001b[1;32m   1409\u001b[0m     \u001b[0;32mdef\u001b[0m \u001b[0mclose\u001b[0m\u001b[0;34m(\u001b[0m\u001b[0mself\u001b[0m\u001b[0;34m)\u001b[0m \u001b[0;34m->\u001b[0m \u001b[0;32mNone\u001b[0m\u001b[0;34m:\u001b[0m\u001b[0;34m\u001b[0m\u001b[0;34m\u001b[0m\u001b[0m\n",
            "\u001b[0;32m/usr/local/lib/python3.10/dist-packages/pandas/io/parsers/readers.py\u001b[0m in \u001b[0;36m_make_engine\u001b[0;34m(self, f, engine)\u001b[0m\n\u001b[1;32m   1659\u001b[0m                 \u001b[0;32mif\u001b[0m \u001b[0;34m\"b\"\u001b[0m \u001b[0;32mnot\u001b[0m \u001b[0;32min\u001b[0m \u001b[0mmode\u001b[0m\u001b[0;34m:\u001b[0m\u001b[0;34m\u001b[0m\u001b[0;34m\u001b[0m\u001b[0m\n\u001b[1;32m   1660\u001b[0m                     \u001b[0mmode\u001b[0m \u001b[0;34m+=\u001b[0m \u001b[0;34m\"b\"\u001b[0m\u001b[0;34m\u001b[0m\u001b[0;34m\u001b[0m\u001b[0m\n\u001b[0;32m-> 1661\u001b[0;31m             self.handles = get_handle(\n\u001b[0m\u001b[1;32m   1662\u001b[0m                 \u001b[0mf\u001b[0m\u001b[0;34m,\u001b[0m\u001b[0;34m\u001b[0m\u001b[0;34m\u001b[0m\u001b[0m\n\u001b[1;32m   1663\u001b[0m                 \u001b[0mmode\u001b[0m\u001b[0;34m,\u001b[0m\u001b[0;34m\u001b[0m\u001b[0;34m\u001b[0m\u001b[0m\n",
            "\u001b[0;32m/usr/local/lib/python3.10/dist-packages/pandas/io/common.py\u001b[0m in \u001b[0;36mget_handle\u001b[0;34m(path_or_buf, mode, encoding, compression, memory_map, is_text, errors, storage_options)\u001b[0m\n\u001b[1;32m    857\u001b[0m         \u001b[0;32mif\u001b[0m \u001b[0mioargs\u001b[0m\u001b[0;34m.\u001b[0m\u001b[0mencoding\u001b[0m \u001b[0;32mand\u001b[0m \u001b[0;34m\"b\"\u001b[0m \u001b[0;32mnot\u001b[0m \u001b[0;32min\u001b[0m \u001b[0mioargs\u001b[0m\u001b[0;34m.\u001b[0m\u001b[0mmode\u001b[0m\u001b[0;34m:\u001b[0m\u001b[0;34m\u001b[0m\u001b[0;34m\u001b[0m\u001b[0m\n\u001b[1;32m    858\u001b[0m             \u001b[0;31m# Encoding\u001b[0m\u001b[0;34m\u001b[0m\u001b[0;34m\u001b[0m\u001b[0m\n\u001b[0;32m--> 859\u001b[0;31m             handle = open(\n\u001b[0m\u001b[1;32m    860\u001b[0m                 \u001b[0mhandle\u001b[0m\u001b[0;34m,\u001b[0m\u001b[0;34m\u001b[0m\u001b[0;34m\u001b[0m\u001b[0m\n\u001b[1;32m    861\u001b[0m                 \u001b[0mioargs\u001b[0m\u001b[0;34m.\u001b[0m\u001b[0mmode\u001b[0m\u001b[0;34m,\u001b[0m\u001b[0;34m\u001b[0m\u001b[0;34m\u001b[0m\u001b[0m\n",
            "\u001b[0;31mFileNotFoundError\u001b[0m: [Errno 2] No such file or directory: 'your_data.csv'"
          ]
        }
      ]
    },
    {
      "cell_type": "markdown",
      "source": [
        "Замените 'your_data.csv' на путь к вашему файлу данных. Этот код загрузит данные из файла в DataFrame, удалит дубликаты, выберет нужное подмножество строк, отсортирует его по колонке 'Distance' и получит значение колонки 'Style' во второй строке после сортировки.\n",
        "\n",
        "\n",
        "Описание шагов:\n",
        "1. Загрузка данных в DataFrame:\n",
        "   - Функция pd.read_csv('your_data.csv') загружает данные из CSV файла в объект DataFrame data.\n",
        "\n",
        "2. Удаление дубликатов:\n",
        "   - Метод data.drop_duplicates() удаляет повторяющиеся строки из DataFrame data.\n",
        "\n",
        "3. Выбор строк с индекса 69 по 322:\n",
        "   - Метод data.iloc[69:323] выбирает подмножество строк от индекса 69 до 322 и сохраняет его в переменную data_subset.\n",
        "\n",
        "4. Сортировка результатов по колонке 'Distance' по убыванию:\n",
        "   - Метод data_subset.sort_values(by='Distance', ascending=False) сортирует подмножество данных data_subset по колонке 'Distance' в порядке убывания и сохраняет результаты в переменную sorted_data.\n",
        "\n",
        "5. Получение значения колонки 'Style' во второй строке после сортировки:\n",
        "   - С помощью sorted_data.iloc[1]['Style'] извлекается значение 'Style' из второй строки после сортировки и сохраняется в переменную style_value.\n",
        "\n",
        "6. Вывод результатов:\n",
        "   - Функция print() выводит отсортированные данные sorted_data и значение 'Style' во второй строке после сортировки.\n"
      ],
      "metadata": {
        "id": "1dQx_-PUAwCt"
      }
    },
    {
      "cell_type": "markdown",
      "source": [
        "#№3  Для оценки количества строк, которые были удалены после анализа гистограмм распределения и удаления аномальных значений в наборе данных \"Cars\", нам нужно пройти следующие этапы:"
      ],
      "metadata": {
        "id": "5FsgSyXXzgUC"
      }
    },
    {
      "cell_type": "code",
      "source": [
        "import pandas as pd\n",
        "import matplotlib.pyplot as plt\n",
        "\n",
        "# Загрузка данных в DataFrame\n",
        "data = pd.read_csv('cars.csv')\n",
        "\n",
        "# Построение гистограмм для каждого интересующего столбца\n",
        "data.hist()\n",
        "plt.show()\n",
        "\n",
        "# Определение критериев для исключения аномальных значений\n",
        "# Например, отфильтруем строки, у которых цена ('price') выше 100000\n",
        "updated_data = data[data['price'] < 100000]\n",
        "\n",
        "# Подсчет количества удаленных строк\n",
        "rows_deleted = len(data) - len(updated_data)\n",
        "print(\"Количество удаленных строк:\", rows_deleted)\n"
      ],
      "metadata": {
        "colab": {
          "base_uri": "https://localhost:8080/",
          "height": 373
        },
        "collapsed": true,
        "id": "Ks2qOjarxJvB",
        "outputId": "69a7d46e-fa5b-4dce-9965-e47a11457a98"
      },
      "execution_count": null,
      "outputs": [
        {
          "output_type": "error",
          "ename": "FileNotFoundError",
          "evalue": "[Errno 2] No such file or directory: 'cars.csv'",
          "traceback": [
            "\u001b[0;31m---------------------------------------------------------------------------\u001b[0m",
            "\u001b[0;31mFileNotFoundError\u001b[0m                         Traceback (most recent call last)",
            "\u001b[0;32m<ipython-input-1-4572408d41c7>\u001b[0m in \u001b[0;36m<cell line: 5>\u001b[0;34m()\u001b[0m\n\u001b[1;32m      3\u001b[0m \u001b[0;34m\u001b[0m\u001b[0m\n\u001b[1;32m      4\u001b[0m \u001b[0;31m# Загрузка данных в DataFrame\u001b[0m\u001b[0;34m\u001b[0m\u001b[0;34m\u001b[0m\u001b[0m\n\u001b[0;32m----> 5\u001b[0;31m \u001b[0mdata\u001b[0m \u001b[0;34m=\u001b[0m \u001b[0mpd\u001b[0m\u001b[0;34m.\u001b[0m\u001b[0mread_csv\u001b[0m\u001b[0;34m(\u001b[0m\u001b[0;34m'cars.csv'\u001b[0m\u001b[0;34m)\u001b[0m\u001b[0;34m\u001b[0m\u001b[0;34m\u001b[0m\u001b[0m\n\u001b[0m\u001b[1;32m      6\u001b[0m \u001b[0;34m\u001b[0m\u001b[0m\n\u001b[1;32m      7\u001b[0m \u001b[0;31m# Построение гистограмм для каждого интересующего столбца\u001b[0m\u001b[0;34m\u001b[0m\u001b[0;34m\u001b[0m\u001b[0m\n",
            "\u001b[0;32m/usr/local/lib/python3.10/dist-packages/pandas/io/parsers/readers.py\u001b[0m in \u001b[0;36mread_csv\u001b[0;34m(filepath_or_buffer, sep, delimiter, header, names, index_col, usecols, dtype, engine, converters, true_values, false_values, skipinitialspace, skiprows, skipfooter, nrows, na_values, keep_default_na, na_filter, verbose, skip_blank_lines, parse_dates, infer_datetime_format, keep_date_col, date_parser, date_format, dayfirst, cache_dates, iterator, chunksize, compression, thousands, decimal, lineterminator, quotechar, quoting, doublequote, escapechar, comment, encoding, encoding_errors, dialect, on_bad_lines, delim_whitespace, low_memory, memory_map, float_precision, storage_options, dtype_backend)\u001b[0m\n\u001b[1;32m    910\u001b[0m     \u001b[0mkwds\u001b[0m\u001b[0;34m.\u001b[0m\u001b[0mupdate\u001b[0m\u001b[0;34m(\u001b[0m\u001b[0mkwds_defaults\u001b[0m\u001b[0;34m)\u001b[0m\u001b[0;34m\u001b[0m\u001b[0;34m\u001b[0m\u001b[0m\n\u001b[1;32m    911\u001b[0m \u001b[0;34m\u001b[0m\u001b[0m\n\u001b[0;32m--> 912\u001b[0;31m     \u001b[0;32mreturn\u001b[0m \u001b[0m_read\u001b[0m\u001b[0;34m(\u001b[0m\u001b[0mfilepath_or_buffer\u001b[0m\u001b[0;34m,\u001b[0m \u001b[0mkwds\u001b[0m\u001b[0;34m)\u001b[0m\u001b[0;34m\u001b[0m\u001b[0;34m\u001b[0m\u001b[0m\n\u001b[0m\u001b[1;32m    913\u001b[0m \u001b[0;34m\u001b[0m\u001b[0m\n\u001b[1;32m    914\u001b[0m \u001b[0;34m\u001b[0m\u001b[0m\n",
            "\u001b[0;32m/usr/local/lib/python3.10/dist-packages/pandas/io/parsers/readers.py\u001b[0m in \u001b[0;36m_read\u001b[0;34m(filepath_or_buffer, kwds)\u001b[0m\n\u001b[1;32m    575\u001b[0m \u001b[0;34m\u001b[0m\u001b[0m\n\u001b[1;32m    576\u001b[0m     \u001b[0;31m# Create the parser.\u001b[0m\u001b[0;34m\u001b[0m\u001b[0;34m\u001b[0m\u001b[0m\n\u001b[0;32m--> 577\u001b[0;31m     \u001b[0mparser\u001b[0m \u001b[0;34m=\u001b[0m \u001b[0mTextFileReader\u001b[0m\u001b[0;34m(\u001b[0m\u001b[0mfilepath_or_buffer\u001b[0m\u001b[0;34m,\u001b[0m \u001b[0;34m**\u001b[0m\u001b[0mkwds\u001b[0m\u001b[0;34m)\u001b[0m\u001b[0;34m\u001b[0m\u001b[0;34m\u001b[0m\u001b[0m\n\u001b[0m\u001b[1;32m    578\u001b[0m \u001b[0;34m\u001b[0m\u001b[0m\n\u001b[1;32m    579\u001b[0m     \u001b[0;32mif\u001b[0m \u001b[0mchunksize\u001b[0m \u001b[0;32mor\u001b[0m \u001b[0miterator\u001b[0m\u001b[0;34m:\u001b[0m\u001b[0;34m\u001b[0m\u001b[0;34m\u001b[0m\u001b[0m\n",
            "\u001b[0;32m/usr/local/lib/python3.10/dist-packages/pandas/io/parsers/readers.py\u001b[0m in \u001b[0;36m__init__\u001b[0;34m(self, f, engine, **kwds)\u001b[0m\n\u001b[1;32m   1405\u001b[0m \u001b[0;34m\u001b[0m\u001b[0m\n\u001b[1;32m   1406\u001b[0m         \u001b[0mself\u001b[0m\u001b[0;34m.\u001b[0m\u001b[0mhandles\u001b[0m\u001b[0;34m:\u001b[0m \u001b[0mIOHandles\u001b[0m \u001b[0;34m|\u001b[0m \u001b[0;32mNone\u001b[0m \u001b[0;34m=\u001b[0m \u001b[0;32mNone\u001b[0m\u001b[0;34m\u001b[0m\u001b[0;34m\u001b[0m\u001b[0m\n\u001b[0;32m-> 1407\u001b[0;31m         \u001b[0mself\u001b[0m\u001b[0;34m.\u001b[0m\u001b[0m_engine\u001b[0m \u001b[0;34m=\u001b[0m \u001b[0mself\u001b[0m\u001b[0;34m.\u001b[0m\u001b[0m_make_engine\u001b[0m\u001b[0;34m(\u001b[0m\u001b[0mf\u001b[0m\u001b[0;34m,\u001b[0m \u001b[0mself\u001b[0m\u001b[0;34m.\u001b[0m\u001b[0mengine\u001b[0m\u001b[0;34m)\u001b[0m\u001b[0;34m\u001b[0m\u001b[0;34m\u001b[0m\u001b[0m\n\u001b[0m\u001b[1;32m   1408\u001b[0m \u001b[0;34m\u001b[0m\u001b[0m\n\u001b[1;32m   1409\u001b[0m     \u001b[0;32mdef\u001b[0m \u001b[0mclose\u001b[0m\u001b[0;34m(\u001b[0m\u001b[0mself\u001b[0m\u001b[0;34m)\u001b[0m \u001b[0;34m->\u001b[0m \u001b[0;32mNone\u001b[0m\u001b[0;34m:\u001b[0m\u001b[0;34m\u001b[0m\u001b[0;34m\u001b[0m\u001b[0m\n",
            "\u001b[0;32m/usr/local/lib/python3.10/dist-packages/pandas/io/parsers/readers.py\u001b[0m in \u001b[0;36m_make_engine\u001b[0;34m(self, f, engine)\u001b[0m\n\u001b[1;32m   1659\u001b[0m                 \u001b[0;32mif\u001b[0m \u001b[0;34m\"b\"\u001b[0m \u001b[0;32mnot\u001b[0m \u001b[0;32min\u001b[0m \u001b[0mmode\u001b[0m\u001b[0;34m:\u001b[0m\u001b[0;34m\u001b[0m\u001b[0;34m\u001b[0m\u001b[0m\n\u001b[1;32m   1660\u001b[0m                     \u001b[0mmode\u001b[0m \u001b[0;34m+=\u001b[0m \u001b[0;34m\"b\"\u001b[0m\u001b[0;34m\u001b[0m\u001b[0;34m\u001b[0m\u001b[0m\n\u001b[0;32m-> 1661\u001b[0;31m             self.handles = get_handle(\n\u001b[0m\u001b[1;32m   1662\u001b[0m                 \u001b[0mf\u001b[0m\u001b[0;34m,\u001b[0m\u001b[0;34m\u001b[0m\u001b[0;34m\u001b[0m\u001b[0m\n\u001b[1;32m   1663\u001b[0m                 \u001b[0mmode\u001b[0m\u001b[0;34m,\u001b[0m\u001b[0;34m\u001b[0m\u001b[0;34m\u001b[0m\u001b[0m\n",
            "\u001b[0;32m/usr/local/lib/python3.10/dist-packages/pandas/io/common.py\u001b[0m in \u001b[0;36mget_handle\u001b[0;34m(path_or_buf, mode, encoding, compression, memory_map, is_text, errors, storage_options)\u001b[0m\n\u001b[1;32m    857\u001b[0m         \u001b[0;32mif\u001b[0m \u001b[0mioargs\u001b[0m\u001b[0;34m.\u001b[0m\u001b[0mencoding\u001b[0m \u001b[0;32mand\u001b[0m \u001b[0;34m\"b\"\u001b[0m \u001b[0;32mnot\u001b[0m \u001b[0;32min\u001b[0m \u001b[0mioargs\u001b[0m\u001b[0;34m.\u001b[0m\u001b[0mmode\u001b[0m\u001b[0;34m:\u001b[0m\u001b[0;34m\u001b[0m\u001b[0;34m\u001b[0m\u001b[0m\n\u001b[1;32m    858\u001b[0m             \u001b[0;31m# Encoding\u001b[0m\u001b[0;34m\u001b[0m\u001b[0;34m\u001b[0m\u001b[0m\n\u001b[0;32m--> 859\u001b[0;31m             handle = open(\n\u001b[0m\u001b[1;32m    860\u001b[0m                 \u001b[0mhandle\u001b[0m\u001b[0;34m,\u001b[0m\u001b[0;34m\u001b[0m\u001b[0;34m\u001b[0m\u001b[0m\n\u001b[1;32m    861\u001b[0m                 \u001b[0mioargs\u001b[0m\u001b[0;34m.\u001b[0m\u001b[0mmode\u001b[0m\u001b[0;34m,\u001b[0m\u001b[0;34m\u001b[0m\u001b[0;34m\u001b[0m\u001b[0m\n",
            "\u001b[0;31mFileNotFoundError\u001b[0m: [Errno 2] No such file or directory: 'cars.csv'"
          ]
        }
      ]
    },
    {
      "cell_type": "markdown",
      "source": [
        "# №4 Чтобы найти самую распространенную марку автомобилей в наборе данных \"Cars\" по столбцу 'make', можно воспользоваться следующим кодом на языке Python:"
      ],
      "metadata": {
        "id": "PuJ-BefLyil3"
      }
    },
    {
      "cell_type": "code",
      "source": [
        "import pandas as pd\n",
        "\n",
        "# Загрузка данных в DataFrame\n",
        "data = pd.read_csv('cars.csv')\n",
        "\n",
        "# Подсчет количества каждой марки автомобилей\n",
        "make_counts = data['make'].value_counts()\n",
        "\n",
        "# Нахождение самой распространенной марки\n",
        "most_common_make = make_counts.idxmax()\n",
        "\n",
        "print(\"Самая распространенная марка автомобилей:\", most_common_make)\n"
      ],
      "metadata": {
        "id": "VRBbAey1ypHR"
      },
      "execution_count": null,
      "outputs": []
    },
    {
      "cell_type": "markdown",
      "source": [
        "Этот код сначала подсчитывает количество каждой марки автомобилей в наборе данных, а затем находит марку с наибольшим количеством появлений. В результате  получаем  название самой распространенной марки автомобилей в наборе данных."
      ],
      "metadata": {
        "id": "FN9ZlLZTywvo"
      }
    },
    {
      "cell_type": "markdown",
      "source": [
        "#№5Для выполнения этой задачи можно использовать библиотеку Seaborn для визуализации скаттерограммы и библиотеку pandas для работы с данными. Вот шаги, которые нужно выполнить:\n",
        "-Загрузите данные в DataFrame.\n",
        "\n",
        "-Постройте скаттерограмму для столбцов\n",
        "\n",
        "'Distance' и 'Year', используя столбец\n",
        "\n",
        "'Transmission' для цветового кодирования (hue).\n",
        "\n",
        "-Найдите точку, которая наиболее близка к\n",
        "координатам (Year = 1980, Distance = 500000).\n",
        "\n",
        "-Определите тип Transmission для этой точки.\n",
        "Пример кода:"
      ],
      "metadata": {
        "id": "c80VaU0czPZb"
      }
    },
    {
      "cell_type": "code",
      "source": [
        "import pandas as pd\n",
        "import seaborn as sns\n",
        "\n",
        "# Загрузка данных в DataFrame\n",
        "data = pd.read_csv('cars.csv')\n",
        "\n",
        "# Построение скаттерграммы\n",
        "sns.scatterplot(x='Year', y='Distance', hue='Transmission', data=data)\n",
        "plt.show()\n",
        "\n",
        "# Нахождение индекса ближайшей точки по заданным координатам\n",
        "target_year = 1980\n",
        "target_distance = 500000\n",
        "idx = ((data['Year'] - target_year) ** 2 + (data['Distance'] - target_distance) ** 2).idxmin()\n",
        "\n",
        "# Определение типа Transmission для найденной точки\n",
        "transmission_type = data.loc[idx, 'Transmission']\n",
        "\n",
        "print(f\"Трансмиссия для точки (Year = 1980, Distance = 500000): {transmission_type}\")\n"
      ],
      "metadata": {
        "id": "FxC-A75XzqMZ"
      },
      "execution_count": null,
      "outputs": []
    },
    {
      "cell_type": "markdown",
      "source": [
        "#№6Если взять новым признаком координаты полученные при конструировании признаков, то в случае левого графика у красных данных перемноженные координаты будут иметь отрицательный знак, у синих же всегда положительный, в таком случае мы получим новую характеристику и по ней сможем отделить одной линией. Для правого же графика стоит также взять за основу коордиинаты и вычислить с помощью них расстояние до начала координат по формуле d=sqrt(x^2+y^2), найти наибольшее расстояние для красных признаков и наименьшее для синих, далее путём сравнения мы также сможем отделить их одной линией"
      ],
      "metadata": {
        "id": "W9TkWC7W0C9o"
      }
    },
    {
      "cell_type": "code",
      "source": [
        "import pandas as pd\n",
        "import seaborn as sns\n",
        "import matplotlib.pyplot as plt\n",
        "\n",
        "# Загрузка данных в DataFrame\n",
        "data = pd.read_csv('cars.csv')\n",
        "\n",
        "# Добавление новых признаков\n",
        "data['Coordinates_product'] = data['Year'] * data['Distance']\n",
        "data['Distance_origin'] = ((data['Year'] ** 2) + (data['Distance'] ** 2)) ** 0.5\n",
        "\n",
        "# Создание нового DataFrame для графиков\n",
        "new_data = data[['Coordinates_product', 'Distance_origin', 'Transmission']]\n",
        "\n",
        "# Построение скаттерграммы по новым признакам\n",
        "sns.scatterplot(x='Coordinates_product', y='Distance_origin', hue='Transmission', data=new_data)\n",
        "plt.show()\n",
        "\n",
        "# Отделение данных одной линией на основе новых признаков\n",
        "max_coordinate_product_red = new_data.loc[new_data['Transmission'] == 'Red', 'Coordinates_product'].max()\n",
        "min_coordinate_product_blue = new_data.loc[new_data['Transmission'] == 'Blue', 'Coordinates_product'].min()\n",
        "\n",
        "max_distance_red = new_data.loc[new_data['Transmission'] == 'Red', 'Distance_origin'].max()\n",
        "min_distance_blue = new_data.loc[new_data['Transmission'] == 'Blue', 'Distance_origin'].min()\n",
        "\n",
        "plt.axvline(max_coordinate_product_red, color='r', linestyle='--')\n",
        "plt.axvline(min_coordinate_product_blue, color='b', linestyle='--')\n",
        "\n",
        "plt.axhline(max_distance_red, color='r', linestyle='--')\n",
        "plt.axhline(min_distance_blue, color='b', linestyle='--')\n",
        "\n",
        "plt.show()\n"
      ],
      "metadata": {
        "id": "rf1jwg1e0R7c"
      },
      "execution_count": null,
      "outputs": []
    }
  ]
}