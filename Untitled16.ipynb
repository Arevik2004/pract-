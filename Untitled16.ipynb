{
  "nbformat": 4,
  "nbformat_minor": 0,
  "metadata": {
    "colab": {
      "provenance": []
    },
    "kernelspec": {
      "name": "python3",
      "display_name": "Python 3"
    },
    "language_info": {
      "name": "python"
    }
  },
  "cells": [
    {
      "cell_type": "markdown",
      "source": [
        "\n",
        "##Практическая работа № 6"
      ],
      "metadata": {
        "id": "nR7P3sVzRRZb"
      }
    },
    {
      "cell_type": "markdown",
      "source": [
        "# № 1 Евклидово расстояние между векторами x1 и x2"
      ],
      "metadata": {
        "id": "TPjgrvjgRVC6"
      }
    },
    {
      "cell_type": "code",
      "source": [
        "import numpy as np\n",
        "\n",
        "# Определение векторов\n",
        "x1 = np.array([2, 5, 3, 7])\n",
        "x2 = np.array([2, 7, 1, 5])\n",
        "\n",
        "# Вычисление Евклидова расстояния\n",
        "distance = np.linalg.norm(x1 - x2)\n",
        "\n",
        "print(f\"Евклидово расстояние между x1 и x2: {distance}\")\n"
      ],
      "metadata": {
        "colab": {
          "base_uri": "https://localhost:8080/"
        },
        "id": "0978CSCvSDyI",
        "outputId": "2a79072b-4215-406b-a61e-bfffe778ea4a"
      },
      "execution_count": null,
      "outputs": [
        {
          "output_type": "stream",
          "name": "stdout",
          "text": [
            "Евклидово расстояние между x1 и x2: 3.4641016151377544\n"
          ]
        }
      ]
    },
    {
      "cell_type": "markdown",
      "source": [
        "# № 2 Расстояние Чебышева между векторами x1 и x2:"
      ],
      "metadata": {
        "id": "ZDzQ9dooSQfw"
      }
    },
    {
      "cell_type": "code",
      "source": [
        "import numpy as np\n",
        "\n",
        "# Определение векторов\n",
        "x1 = np.array([0, 10, 4, 9])\n",
        "x2 = np.array([3, 7, 0, 2])\n",
        "\n",
        "# Вычисление расстояния Чебышева\n",
        "chebyshev_distance = np.max(np.abs(x1 - x2))\n",
        "\n",
        "print(f\"Расстояние Чебышева между x1 и x2: {chebyshev_distance}\")\n"
      ],
      "metadata": {
        "colab": {
          "base_uri": "https://localhost:8080/"
        },
        "id": "DZD1H2HrSZus",
        "outputId": "9350b4e9-e7b1-4a21-9cf8-bdf5ad31daf8"
      },
      "execution_count": null,
      "outputs": [
        {
          "output_type": "stream",
          "name": "stdout",
          "text": [
            "Расстояние Чебышева между x1 и x2: 7\n"
          ]
        }
      ]
    },
    {
      "cell_type": "markdown",
      "source": [
        "# № 3 Определение ближайшего кластера для точки x:"
      ],
      "metadata": {
        "id": "2KAyBiEKS8Xo"
      }
    },
    {
      "cell_type": "code",
      "source": [
        "import numpy as np\n",
        "\n",
        "# Определение центроидов кластеров и точки\n",
        "c1 = np.array([1, 0, 0])\n",
        "c2 = np.array([0, 1, 1])\n",
        "c3 = np.array([1, 0, 1])\n",
        "x = np.array([2, 0, 2])\n",
        "\n",
        "# Вычисление Евклидовых расстояний\n",
        "dist_c1 = np.linalg.norm(x - c1)\n",
        "dist_c2 = np.linalg.norm(x - c2)\n",
        "dist_c3 = np.linalg.norm(x - c3)\n",
        "\n",
        "# Определение ближайшего кластера\n",
        "nearest_cluster = np.argmin([dist_c1, dist_c2, dist_c3]) + 1\n",
        "\n",
        "print(f\"Ближайший кластер для точки x: c{nearest_cluster}\")\n"
      ],
      "metadata": {
        "colab": {
          "base_uri": "https://localhost:8080/"
        },
        "id": "tq58a_exTIBp",
        "outputId": "608ac582-846e-4b42-ff57-8d0fb92b20b5"
      },
      "execution_count": null,
      "outputs": [
        {
          "output_type": "stream",
          "name": "stdout",
          "text": [
            "Ближайший кластер для точки x: c3\n"
          ]
        }
      ]
    },
    {
      "cell_type": "markdown",
      "source": [
        "# № 4 Метод определения оптимального числа кластеров k с использованием анализа инерции называется методом локтя (elbow method). Вот пример его реализации:\n",
        "Метод локтя — это популярный метод для определения оптимального числа кластеров\n",
        "𝑘\n",
        "k в задаче кластеризации. Он включает в себя построение графика изменения значения инерции (суммы квадратов расстояний точек до их ближайших центроидов) в зависимости от числа кластеров\n",
        "𝑘\n",
        "k и поиск \"точки изгиба\", которая напоминает локоть. Эта точка часто указывает на подходящее количество кластеров.\n",
        "\n",
        "Вот пример кода на Python, который использует библиотеку KMeans из sklearn для реализации метода локтя:\n"
      ],
      "metadata": {
        "id": "krEDukbzTIQa"
      }
    },
    {
      "cell_type": "code",
      "source": [
        "import numpy as np\n",
        "from sklearn.cluster import KMeans\n",
        "import matplotlib.pyplot as plt\n",
        "\n",
        "# Предположим, что X - это массив данных для кластеризации\n",
        "# X = np.array([...])\n",
        "\n",
        "# Вычисление инерции для разного количества кластеров\n",
        "inertias = []\n",
        "for k in range(1, 11):\n",
        "    kmeans = KMeans(n_clusters=k, random_state=0).fit(X)\n",
        "    inertias.append(kmeans.inertia_)\n",
        "\n",
        "# Построение графика инерции\n",
        "plt.figure(figsize=(8, 4))\n",
        "plt.plot(range(1, 11), inertias, 'bo-')\n",
        "plt.xlabel('Число кластеров k')\n",
        "plt.ylabel('Инерция')\n",
        "plt.title('Метод локтя для определения оптимального k')\n",
        "plt.show()\n"
      ],
      "metadata": {
        "collapsed": true,
        "colab": {
          "base_uri": "https://localhost:8080/",
          "height": 211
        },
        "id": "qjsWhCCkT2qI",
        "outputId": "e484433d-a724-45b9-e287-48cff88a70dc"
      },
      "execution_count": null,
      "outputs": [
        {
          "output_type": "error",
          "ename": "NameError",
          "evalue": "name 'X' is not defined",
          "traceback": [
            "\u001b[0;31m---------------------------------------------------------------------------\u001b[0m",
            "\u001b[0;31mNameError\u001b[0m                                 Traceback (most recent call last)",
            "\u001b[0;32m<ipython-input-5-a2d54d0133fb>\u001b[0m in \u001b[0;36m<cell line: 10>\u001b[0;34m()\u001b[0m\n\u001b[1;32m      9\u001b[0m \u001b[0minertias\u001b[0m \u001b[0;34m=\u001b[0m \u001b[0;34m[\u001b[0m\u001b[0;34m]\u001b[0m\u001b[0;34m\u001b[0m\u001b[0;34m\u001b[0m\u001b[0m\n\u001b[1;32m     10\u001b[0m \u001b[0;32mfor\u001b[0m \u001b[0mk\u001b[0m \u001b[0;32min\u001b[0m \u001b[0mrange\u001b[0m\u001b[0;34m(\u001b[0m\u001b[0;36m1\u001b[0m\u001b[0;34m,\u001b[0m \u001b[0;36m11\u001b[0m\u001b[0;34m)\u001b[0m\u001b[0;34m:\u001b[0m\u001b[0;34m\u001b[0m\u001b[0;34m\u001b[0m\u001b[0m\n\u001b[0;32m---> 11\u001b[0;31m     \u001b[0mkmeans\u001b[0m \u001b[0;34m=\u001b[0m \u001b[0mKMeans\u001b[0m\u001b[0;34m(\u001b[0m\u001b[0mn_clusters\u001b[0m\u001b[0;34m=\u001b[0m\u001b[0mk\u001b[0m\u001b[0;34m,\u001b[0m \u001b[0mrandom_state\u001b[0m\u001b[0;34m=\u001b[0m\u001b[0;36m0\u001b[0m\u001b[0;34m)\u001b[0m\u001b[0;34m.\u001b[0m\u001b[0mfit\u001b[0m\u001b[0;34m(\u001b[0m\u001b[0mX\u001b[0m\u001b[0;34m)\u001b[0m\u001b[0;34m\u001b[0m\u001b[0;34m\u001b[0m\u001b[0m\n\u001b[0m\u001b[1;32m     12\u001b[0m     \u001b[0minertias\u001b[0m\u001b[0;34m.\u001b[0m\u001b[0mappend\u001b[0m\u001b[0;34m(\u001b[0m\u001b[0mkmeans\u001b[0m\u001b[0;34m.\u001b[0m\u001b[0minertia_\u001b[0m\u001b[0;34m)\u001b[0m\u001b[0;34m\u001b[0m\u001b[0;34m\u001b[0m\u001b[0m\n\u001b[1;32m     13\u001b[0m \u001b[0;34m\u001b[0m\u001b[0m\n",
            "\u001b[0;31mNameError\u001b[0m: name 'X' is not defined"
          ]
        }
      ]
    }
  ]
}