{
  "nbformat": 4,
  "nbformat_minor": 0,
  "metadata": {
    "colab": {
      "provenance": []
    },
    "kernelspec": {
      "name": "python3",
      "display_name": "Python 3"
    },
    "language_info": {
      "name": "python"
    }
  },
  "cells": [
    {
      "cell_type": "markdown",
      "source": [
        "## Практическая работа № 3\n",
        "\n",
        "\n",
        "\n"
      ],
      "metadata": {
        "id": "vD9ATkbb0w-R"
      }
    },
    {
      "cell_type": "markdown",
      "source": [
        "#№1  Возможные гиперпараметры модели линейной регрессии:\n",
        "1. Скорость обучения (learning rate): Определяет величину изменения значений параметров модели на каждом шаге оптимизации.\n",
        "\n",
        "2. Количество эпох (number of epochs): Количество раз, которые весь набор данных проходит через модель в процессе обучения.\n",
        "\n",
        "3. Регуляризация (regularization): Параметры, контролирующие величину регуляризации, такие как коэффициент регуляризации (лассо, ридж или elastic net).\n",
        "\n",
        "4. Метод оптимизации (optimizer): Алгоритм, используемый для обновления параметров модели во время обучения, например, стохастический градиентный спуск (SGD), ADAM, RMSprop и другие.\n",
        "\n",
        "5. Смещение (bias): Значение смещения (интерсепта) в линейной модели.\n",
        "\n",
        "6. Параметр регуляризации: Значение коэффициента регуляризации для метода регуляризации (например, alpha для L1 или L2 регуляризации).\n",
        "\n",
        "7. Функция потерь (loss function): Выбор функции потерь, используемой для оценки ошибки модели, например, среднеквадратичная ошибка (MSE) или средняя абсолютная ошибка (MAE).\n",
        "\n",
        "8. Размер пакета (batch size): Количество примеров данных, используемых для обновления параметров модели на каждом шаге обновления.\n",
        "\n",
        "9. Толщина линии: Служит для регулирования ширины линии, через которую проходят точки данных."
      ],
      "metadata": {
        "id": "A-aX0FBT4CFn"
      }
    },
    {
      "cell_type": "markdown",
      "source": [
        "#№2  Может ли коэффициент детерминации (R²) быть отрицательным числом?\n",
        "Да, коэффициент детерминации (R^2) может быть отрицательным числом. Это означает, что модель не только не объясняет дисперсию в данных, но и производит хуже, чем простое среднее. Коэффициент детерминации измеряет, насколько хорошо модель соответствует данным, и он может принимать значения от -∞ до 1.\n",
        "\n"
      ],
      "metadata": {
        "id": "c0NEADxV5uAY"
      }
    },
    {
      "cell_type": "markdown",
      "source": [
        "# №3 Оценка MSE (Mean Squared Error) для данных:\n",
        "Реальные значения y: {1, 2, 3, 4}\n",
        "Предсказанные значения: {2, 1, 4, 6}"
      ],
      "metadata": {
        "id": "mkGgSHf28dqb"
      }
    },
    {
      "cell_type": "code",
      "source": [
        "\n",
        "import numpy as np\n",
        "\n",
        "def mean_squared_error(y_true, y_pred):\n",
        "    # Преобразуем списки y_true и y_pred в массивы NumPy\n",
        "    y_true = np.array(y_true)\n",
        "    y_pred = np.array(y_pred)\n",
        "\n",
        "    # Вычисляем квадрат разностей между соответствующими элементами массивов\n",
        "    squared_errors = (y_true - y_pred) ** 2\n",
        "\n",
        "    # Вычисляем среднее значение квадратов разностей (MSE)\n",
        "    mse = squared_errors.mean()\n",
        "\n",
        "    # Возвращаем MSE, округленное до двух знаков после запятой\n",
        "    return round(mse, 2)\n",
        "\n",
        "# Пример использования функции\n",
        "y_true = [1, 2, 3, 4]\n",
        "y_pred = [2, 1, 4, 6]\n",
        "print(\"Mean Squared Error:\", mean_squared_error(y_true, y_pred))\n"
      ],
      "metadata": {
        "colab": {
          "base_uri": "https://localhost:8080/"
        },
        "id": "vjZLIgbY7zwP",
        "outputId": "11edc6a4-8b9b-4236-8cd5-d1df284bbd01"
      },
      "execution_count": null,
      "outputs": [
        {
          "output_type": "stream",
          "name": "stdout",
          "text": [
            "Mean Squared Error: 1.75\n"
          ]
        }
      ]
    },
    {
      "cell_type": "markdown",
      "source": [
        "# №4 Рассчитайте обновленный вектор весов:\n",
        "Вектор весов w: {10, 5, 6}\n",
        "Градиент функции потерь: {20, -10, 40}\n",
        "Скорость обучения: 0.1\n",
        "\n"
      ],
      "metadata": {
        "id": "3qYEy-9d8kzE"
      }
    },
    {
      "cell_type": "code",
      "source": [
        "import numpy as np\n",
        "\n",
        "def update_weights(w, gradient, learning_rate):\n",
        "    w = np.array(w)\n",
        "    gradient = np.array(gradient)\n",
        "    new_w = w - learning_rate * gradient\n",
        "    return new_w\n",
        "\n",
        "# Исходные данные\n",
        "w = np.array([10, 5, 6])\n",
        "gradient = np.array([20, -10, 40])\n",
        "learning_rate = 0.1\n",
        "\n",
        "# Вызов функции и вывод обновленного вектора весов\n",
        "new_weights = update_weights(w, gradient, learning_rate)\n",
        "print(new_weights)\n"
      ],
      "metadata": {
        "colab": {
          "base_uri": "https://localhost:8080/"
        },
        "id": "P3JropXgAUyh",
        "outputId": "fb8c28d3-6158-44a7-90b7-edc2a91f51be"
      },
      "execution_count": null,
      "outputs": [
        {
          "output_type": "stream",
          "name": "stdout",
          "text": [
            "[8. 6. 2.]\n"
          ]
        }
      ]
    },
    {
      "cell_type": "markdown",
      "source": [
        "# №5. Необходимые данные для расчета градиента функции потерь:\n",
        "\n",
        "- Объективная функция (функция потерь): Определяет, как оценивается ошибка модели.\n",
        "- Вектор весов модели: Текущие значения весов модели.\n",
        "- Примеры данных: Входные данные и соответствующие им реальные выходные данные.\n",
        "- Параметры модели: Количество признаков и другие параметры, которые могут влиять на расчет градиента (например, регуляризация)."
      ],
      "metadata": {
        "id": "OFPAiP0oAiEe"
      }
    },
    {
      "cell_type": "markdown",
      "source": [
        "#№ 6. Определение векторов весов с регуляризацией:\n",
        "С учетом предоставленной информации, вектор весов с регуляризацией (w2 {0.69, 2.02, 4.20}) вероятнее всего представляет уменьшенные коэффициенты по сравнению с w1 {14.37, 22.80, 32.20}. Это связано с тем, что регуляризация обычно склонна уменьшать абсолютное значение весов модели, чтобы предотвратить переобучение."
      ],
      "metadata": {
        "id": "QnMcWke7A9SP"
      }
    },
    {
      "cell_type": "markdown",
      "source": [
        "# №7  Оценка предсказания модели для\n",
        "x {1, 3, 1}:\n",
        "Весы модели w: {3, -2, 2}\n",
        "Параметры x: {1, 3, 1}\n"
      ],
      "metadata": {
        "id": "8bsnBNeRBV2O"
      }
    },
    {
      "cell_type": "code",
      "source": [
        "def predict(w, x):\n",
        "    # Проверка длин векторов\n",
        "    if len(w) != len(x):\n",
        "        print(\"Длины векторов не совпадают\")\n",
        "        return None\n",
        "\n",
        "    # Расчет скалярного произведения\n",
        "    prediction = sum(wi * xi for wi, xi in zip(w, x))\n",
        "\n",
        "    return prediction\n",
        "\n",
        "# Заданные данные\n",
        "w = [3, -2, 2]\n",
        "x = [1, 3, 1]\n",
        "\n",
        "# Получение предсказания с помощью функции predict\n",
        "prediction = predict(w, x)\n",
        "\n",
        "if prediction is not None:\n",
        "    print(\"Предсказание модели для x {}: {}\".format(x, prediction))\n"
      ],
      "metadata": {
        "colab": {
          "base_uri": "https://localhost:8080/"
        },
        "id": "tFixNkdBBzBU",
        "outputId": "7214ab55-5fe3-428f-dcec-7c3e06c2c68b"
      },
      "execution_count": null,
      "outputs": [
        {
          "output_type": "stream",
          "name": "stdout",
          "text": [
            "Предсказание модели для x [1, 3, 1]: -1\n"
          ]
        }
      ]
    },
    {
      "cell_type": "markdown",
      "source": [
        "# №8 Рассчитайте коэффициент детерминации:\n",
        "\n",
        "Реальные значения y: {1, 2, 3, 4}\n",
        "Предсказанные значения: {2, 1, 4, 6}"
      ],
      "metadata": {
        "id": "t5QEhBklB7_i"
      }
    },
    {
      "cell_type": "code",
      "source": [
        "import numpy as np\n",
        "\n",
        "# Реальные значения y и предсказанные значения\n",
        "y_true = np.array([1, 2, 3, 4])\n",
        "y_pred = np.array([2, 1, 4, 6])\n",
        "\n",
        "# Вычисляем сумму квадратов остатков\n",
        "SS_res = np.sum((y_true - y_pred) ** 2)\n",
        "\n",
        "# Вычисляем общую сумму квадратов\n",
        "mean_y_true = np.mean(y_true)\n",
        "SS_tot = np.sum((y_true - mean_y_true) ** 2)\n",
        "\n",
        "# Рассчитываем коэффициент детерминации\n",
        "R_squared = 1 - (SS_res / SS_tot)\n",
        "\n",
        "print(\"Коэффициент детерминации (R^2):\", R_squared)\n",
        "\n",
        "\n"
      ],
      "metadata": {
        "id": "DdBHKOHiCOHz",
        "outputId": "4512d32c-4695-4370-ca00-8306277f2c85",
        "colab": {
          "base_uri": "https://localhost:8080/"
        }
      },
      "execution_count": null,
      "outputs": [
        {
          "output_type": "stream",
          "name": "stdout",
          "text": [
            "Коэффициент детерминации (R^2): -0.3999999999999999\n"
          ]
        }
      ]
    }
  ]
}