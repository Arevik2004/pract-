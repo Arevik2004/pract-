{
  "nbformat": 4,
  "nbformat_minor": 0,
  "metadata": {
    "colab": {
      "provenance": []
    },
    "kernelspec": {
      "name": "python3",
      "display_name": "Python 3"
    },
    "language_info": {
      "name": "python"
    }
  },
  "cells": [
    {
      "cell_type": "markdown",
      "source": [
        "## Практическая работа № 4"
      ],
      "metadata": {
        "id": "qiSnKoPiDjdw"
      }
    },
    {
      "cell_type": "markdown",
      "source": [
        "#№1\n",
        "Такая ошибка называется ложноположительным результатом (false positive). Это означает, что тест показал наличие заболевания там, где его на самом деле нет. Ложноположительные результаты могут быть вызваны различными факторами, такими как ошибки в проведении теста, перекрестной реакции с другими веществами или биологическими процессами, а также другими факторами, которые могут повлиять на результаты теста."
      ],
      "metadata": {
        "id": "-JB_VQNAD3aC"
      }
    },
    {
      "cell_type": "markdown",
      "source": [
        "# №2 Пусть матрица ошибок TP = 5 TN=90 FP=10 FN=5 оцените материки классификации для такой матрицы ошибок\n",
        "\n",
        "1. Точность (Precision) = TP / (TP + FP) = 5 / (5 + 10) = 5/15 = 1/3 ≈ 0.33\n",
        "2. Полнота (Recall) = TP / (TP + FN) = 5 / (5 + 5) = 5/10 = 0.5\n",
        "3. F-мера (F1-score) = 2  (Precision  Recall) / (Precision + Recall) = 2  (0.33  0.5) / (0.33 + 0.5) = 0.4\n",
        "4. Точность предсказания (Accuracy) = (TP + TN) / (TP + TN + FP + FN) = (5 + 90) / (5 + 90 + 10 + 5) = 95 / 110 ≈ 0.864\n",
        "\n",
        "Таким образом, метрики классификации для данной матрицы ошибок:\n",
        "- Точность ≈ 0.33\n",
        "- Полнота = 0.5\n",
        "- F-мера = 0.4\n",
        "- Точность предсказания ≈ 0.864"
      ],
      "metadata": {
        "id": "zq1YpWcPFGRj"
      }
    },
    {
      "cell_type": "markdown",
      "source": [
        "# №3. Сравнение классификаторов:\n",
        "   - Первый классификатор имеет очень высокую чувствительность, но низкую специфичность, что может указывать на много ложно-положительных результатов.\n",
        "   - Второй классификатор имеет более сбалансированные показатели чувствительности и специфичности, что делает его более надежным для обнаружения обоих классов.\n",
        "   Данные для классификации, вероятно, имеют различную структуру и распределение для каждого классификатора.\n"
      ],
      "metadata": {
        "id": "pU-KnaF9Glsy"
      }
    },
    {
      "cell_type": "markdown",
      "source": [
        "# №4. Гиперпараметры модели логистической регрессии:\n",
        "   - Регуляризация (например, L1 и L2, параметры λ или C)\n",
        "   - Метод оптимизации и его параметры (например, скорость обучения в градиентном спуске)\n",
        "   - Число итераций для обучения модели\n",
        "   - Функция потерь\n"
      ],
      "metadata": {
        "id": "T7PVERUOG5r5"
      }
    },
    {
      "cell_type": "markdown",
      "source": [
        "# №5 Чтобы проанализировать веса моделей при использовании только числовых признаков и определить параметр, который в наибольшей степени связан с целевой переменной, можно воспользоваться линейной регрессией. Для этого можно использовать библиотеку scikit-learn. Предположим, что целевая переменная — это столбец 'Price(euro)'. Вот шаги, которые нужно выполнить:\n",
        "-Загрузите данные в DataFrame.\n",
        "\n",
        "-Выберите только числовые признаки.\n",
        "\n",
        "-Разделите данные на обучающие и тестовые наборы.\n",
        "\n",
        "-Обучите модель линейной регрессии.\n",
        "\n",
        "-Проанализируйте веса модели, чтобы определить, какой параметр наиболее связан с целевой переменной.\n",
        "\n",
        "Пример кода:"
      ],
      "metadata": {
        "id": "MGm8xbPaHErQ"
      }
    },
    {
      "cell_type": "code",
      "source": [
        "import pandas as pd\n",
        "from sklearn.model_selection import train_test_split\n",
        "from sklearn.linear_model import LinearRegression\n",
        "\n",
        "# Загрузка данных в DataFrame\n",
        "data = pd.read_csv('data.csv')  # Предположим, что данные находятся в файле 'data.csv'\n",
        "\n",
        "# Выбор только числовых признаков\n",
        "numerical_features = data.select_dtypes(include=['float64', 'int64'])\n",
        "X = numerical_features.drop('Price(euro)', axis=1)  # Формируем матрицу признаков X\n",
        "y = numerical_features['Price(euro)']  # Определяем целевую переменную y\n",
        "\n",
        "# Разделение данных на обучающий и тестовый наборы\n",
        "X_train, X_test, y_train, y_test = train_test_split(X, y, test_size=0.2, random_state=42)\n",
        "\n",
        "# Обучение модели линейной регрессии\n",
        "model = LinearRegression()\n",
        "model.fit(X_train, y_train)\n",
        "\n",
        "# Анализ весов модели\n",
        "coefficients = pd.DataFrame(model.coef_, X.columns, columns=['Coefficient'])\n",
        "print(coefficients)\n",
        "\n",
        "# Определение параметра, наиболее связанного с целевой переменной\n",
        "most_influential_feature = coefficients['Coefficient'].idxmax()\n",
        "print(f'The most influential feature is: {most_influential_feature}')\n"
      ],
      "metadata": {
        "colab": {
          "base_uri": "https://localhost:8080/",
          "height": 373
        },
        "collapsed": true,
        "id": "z8_KSAAQIFVZ",
        "outputId": "ae86761e-dbb1-4212-9626-4dcd5c83a900"
      },
      "execution_count": null,
      "outputs": [
        {
          "output_type": "error",
          "ename": "FileNotFoundError",
          "evalue": "[Errno 2] No such file or directory: 'data.csv'",
          "traceback": [
            "\u001b[0;31m---------------------------------------------------------------------------\u001b[0m",
            "\u001b[0;31mFileNotFoundError\u001b[0m                         Traceback (most recent call last)",
            "\u001b[0;32m<ipython-input-1-62b153c0ff7f>\u001b[0m in \u001b[0;36m<cell line: 6>\u001b[0;34m()\u001b[0m\n\u001b[1;32m      4\u001b[0m \u001b[0;34m\u001b[0m\u001b[0m\n\u001b[1;32m      5\u001b[0m \u001b[0;31m# Загрузка данных в DataFrame\u001b[0m\u001b[0;34m\u001b[0m\u001b[0;34m\u001b[0m\u001b[0m\n\u001b[0;32m----> 6\u001b[0;31m \u001b[0mdata\u001b[0m \u001b[0;34m=\u001b[0m \u001b[0mpd\u001b[0m\u001b[0;34m.\u001b[0m\u001b[0mread_csv\u001b[0m\u001b[0;34m(\u001b[0m\u001b[0;34m'data.csv'\u001b[0m\u001b[0;34m)\u001b[0m  \u001b[0;31m# Предположим, что данные находятся в файле 'data.csv'\u001b[0m\u001b[0;34m\u001b[0m\u001b[0;34m\u001b[0m\u001b[0m\n\u001b[0m\u001b[1;32m      7\u001b[0m \u001b[0;34m\u001b[0m\u001b[0m\n\u001b[1;32m      8\u001b[0m \u001b[0;31m# Выбор только числовых признаков\u001b[0m\u001b[0;34m\u001b[0m\u001b[0;34m\u001b[0m\u001b[0m\n",
            "\u001b[0;32m/usr/local/lib/python3.10/dist-packages/pandas/io/parsers/readers.py\u001b[0m in \u001b[0;36mread_csv\u001b[0;34m(filepath_or_buffer, sep, delimiter, header, names, index_col, usecols, dtype, engine, converters, true_values, false_values, skipinitialspace, skiprows, skipfooter, nrows, na_values, keep_default_na, na_filter, verbose, skip_blank_lines, parse_dates, infer_datetime_format, keep_date_col, date_parser, date_format, dayfirst, cache_dates, iterator, chunksize, compression, thousands, decimal, lineterminator, quotechar, quoting, doublequote, escapechar, comment, encoding, encoding_errors, dialect, on_bad_lines, delim_whitespace, low_memory, memory_map, float_precision, storage_options, dtype_backend)\u001b[0m\n\u001b[1;32m    910\u001b[0m     \u001b[0mkwds\u001b[0m\u001b[0;34m.\u001b[0m\u001b[0mupdate\u001b[0m\u001b[0;34m(\u001b[0m\u001b[0mkwds_defaults\u001b[0m\u001b[0;34m)\u001b[0m\u001b[0;34m\u001b[0m\u001b[0;34m\u001b[0m\u001b[0m\n\u001b[1;32m    911\u001b[0m \u001b[0;34m\u001b[0m\u001b[0m\n\u001b[0;32m--> 912\u001b[0;31m     \u001b[0;32mreturn\u001b[0m \u001b[0m_read\u001b[0m\u001b[0;34m(\u001b[0m\u001b[0mfilepath_or_buffer\u001b[0m\u001b[0;34m,\u001b[0m \u001b[0mkwds\u001b[0m\u001b[0;34m)\u001b[0m\u001b[0;34m\u001b[0m\u001b[0;34m\u001b[0m\u001b[0m\n\u001b[0m\u001b[1;32m    913\u001b[0m \u001b[0;34m\u001b[0m\u001b[0m\n\u001b[1;32m    914\u001b[0m \u001b[0;34m\u001b[0m\u001b[0m\n",
            "\u001b[0;32m/usr/local/lib/python3.10/dist-packages/pandas/io/parsers/readers.py\u001b[0m in \u001b[0;36m_read\u001b[0;34m(filepath_or_buffer, kwds)\u001b[0m\n\u001b[1;32m    575\u001b[0m \u001b[0;34m\u001b[0m\u001b[0m\n\u001b[1;32m    576\u001b[0m     \u001b[0;31m# Create the parser.\u001b[0m\u001b[0;34m\u001b[0m\u001b[0;34m\u001b[0m\u001b[0m\n\u001b[0;32m--> 577\u001b[0;31m     \u001b[0mparser\u001b[0m \u001b[0;34m=\u001b[0m \u001b[0mTextFileReader\u001b[0m\u001b[0;34m(\u001b[0m\u001b[0mfilepath_or_buffer\u001b[0m\u001b[0;34m,\u001b[0m \u001b[0;34m**\u001b[0m\u001b[0mkwds\u001b[0m\u001b[0;34m)\u001b[0m\u001b[0;34m\u001b[0m\u001b[0;34m\u001b[0m\u001b[0m\n\u001b[0m\u001b[1;32m    578\u001b[0m \u001b[0;34m\u001b[0m\u001b[0m\n\u001b[1;32m    579\u001b[0m     \u001b[0;32mif\u001b[0m \u001b[0mchunksize\u001b[0m \u001b[0;32mor\u001b[0m \u001b[0miterator\u001b[0m\u001b[0;34m:\u001b[0m\u001b[0;34m\u001b[0m\u001b[0;34m\u001b[0m\u001b[0m\n",
            "\u001b[0;32m/usr/local/lib/python3.10/dist-packages/pandas/io/parsers/readers.py\u001b[0m in \u001b[0;36m__init__\u001b[0;34m(self, f, engine, **kwds)\u001b[0m\n\u001b[1;32m   1405\u001b[0m \u001b[0;34m\u001b[0m\u001b[0m\n\u001b[1;32m   1406\u001b[0m         \u001b[0mself\u001b[0m\u001b[0;34m.\u001b[0m\u001b[0mhandles\u001b[0m\u001b[0;34m:\u001b[0m \u001b[0mIOHandles\u001b[0m \u001b[0;34m|\u001b[0m \u001b[0;32mNone\u001b[0m \u001b[0;34m=\u001b[0m \u001b[0;32mNone\u001b[0m\u001b[0;34m\u001b[0m\u001b[0;34m\u001b[0m\u001b[0m\n\u001b[0;32m-> 1407\u001b[0;31m         \u001b[0mself\u001b[0m\u001b[0;34m.\u001b[0m\u001b[0m_engine\u001b[0m \u001b[0;34m=\u001b[0m \u001b[0mself\u001b[0m\u001b[0;34m.\u001b[0m\u001b[0m_make_engine\u001b[0m\u001b[0;34m(\u001b[0m\u001b[0mf\u001b[0m\u001b[0;34m,\u001b[0m \u001b[0mself\u001b[0m\u001b[0;34m.\u001b[0m\u001b[0mengine\u001b[0m\u001b[0;34m)\u001b[0m\u001b[0;34m\u001b[0m\u001b[0;34m\u001b[0m\u001b[0m\n\u001b[0m\u001b[1;32m   1408\u001b[0m \u001b[0;34m\u001b[0m\u001b[0m\n\u001b[1;32m   1409\u001b[0m     \u001b[0;32mdef\u001b[0m \u001b[0mclose\u001b[0m\u001b[0;34m(\u001b[0m\u001b[0mself\u001b[0m\u001b[0;34m)\u001b[0m \u001b[0;34m->\u001b[0m \u001b[0;32mNone\u001b[0m\u001b[0;34m:\u001b[0m\u001b[0;34m\u001b[0m\u001b[0;34m\u001b[0m\u001b[0m\n",
            "\u001b[0;32m/usr/local/lib/python3.10/dist-packages/pandas/io/parsers/readers.py\u001b[0m in \u001b[0;36m_make_engine\u001b[0;34m(self, f, engine)\u001b[0m\n\u001b[1;32m   1659\u001b[0m                 \u001b[0;32mif\u001b[0m \u001b[0;34m\"b\"\u001b[0m \u001b[0;32mnot\u001b[0m \u001b[0;32min\u001b[0m \u001b[0mmode\u001b[0m\u001b[0;34m:\u001b[0m\u001b[0;34m\u001b[0m\u001b[0;34m\u001b[0m\u001b[0m\n\u001b[1;32m   1660\u001b[0m                     \u001b[0mmode\u001b[0m \u001b[0;34m+=\u001b[0m \u001b[0;34m\"b\"\u001b[0m\u001b[0;34m\u001b[0m\u001b[0;34m\u001b[0m\u001b[0m\n\u001b[0;32m-> 1661\u001b[0;31m             self.handles = get_handle(\n\u001b[0m\u001b[1;32m   1662\u001b[0m                 \u001b[0mf\u001b[0m\u001b[0;34m,\u001b[0m\u001b[0;34m\u001b[0m\u001b[0;34m\u001b[0m\u001b[0m\n\u001b[1;32m   1663\u001b[0m                 \u001b[0mmode\u001b[0m\u001b[0;34m,\u001b[0m\u001b[0;34m\u001b[0m\u001b[0;34m\u001b[0m\u001b[0m\n",
            "\u001b[0;32m/usr/local/lib/python3.10/dist-packages/pandas/io/common.py\u001b[0m in \u001b[0;36mget_handle\u001b[0;34m(path_or_buf, mode, encoding, compression, memory_map, is_text, errors, storage_options)\u001b[0m\n\u001b[1;32m    857\u001b[0m         \u001b[0;32mif\u001b[0m \u001b[0mioargs\u001b[0m\u001b[0;34m.\u001b[0m\u001b[0mencoding\u001b[0m \u001b[0;32mand\u001b[0m \u001b[0;34m\"b\"\u001b[0m \u001b[0;32mnot\u001b[0m \u001b[0;32min\u001b[0m \u001b[0mioargs\u001b[0m\u001b[0;34m.\u001b[0m\u001b[0mmode\u001b[0m\u001b[0;34m:\u001b[0m\u001b[0;34m\u001b[0m\u001b[0;34m\u001b[0m\u001b[0m\n\u001b[1;32m    858\u001b[0m             \u001b[0;31m# Encoding\u001b[0m\u001b[0;34m\u001b[0m\u001b[0;34m\u001b[0m\u001b[0m\n\u001b[0;32m--> 859\u001b[0;31m             handle = open(\n\u001b[0m\u001b[1;32m    860\u001b[0m                 \u001b[0mhandle\u001b[0m\u001b[0;34m,\u001b[0m\u001b[0;34m\u001b[0m\u001b[0;34m\u001b[0m\u001b[0m\n\u001b[1;32m    861\u001b[0m                 \u001b[0mioargs\u001b[0m\u001b[0;34m.\u001b[0m\u001b[0mmode\u001b[0m\u001b[0;34m,\u001b[0m\u001b[0;34m\u001b[0m\u001b[0;34m\u001b[0m\u001b[0m\n",
            "\u001b[0;31mFileNotFoundError\u001b[0m: [Errno 2] No such file or directory: 'data.csv'"
          ]
        }
      ]
    },
    {
      "cell_type": "markdown",
      "source": [
        "# №6 Значение функции сигмоиды σ(z) для z = 0.25:σ(0.25) = 1 / (1 + e^(-0.25)) ≈ 0.5596\n",
        "Для вычисления значения функции сигмоиды σ(z) при z = 0.25 на Python"
      ],
      "metadata": {
        "id": "GPE1fILOIahm"
      }
    },
    {
      "cell_type": "code",
      "source": [
        "import numpy as np\n",
        "\n",
        "def sigmoid(z):\n",
        "    return 1 / (1 + np.exp(-z))\n",
        "\n",
        "z = 0.25\n",
        "result = sigmoid(z)\n",
        "print(f\"σ(0.25) = {result:.4f}\")\n",
        "\n"
      ],
      "metadata": {
        "colab": {
          "base_uri": "https://localhost:8080/"
        },
        "id": "UGLsmASUKVfd",
        "outputId": "0745a534-5d0e-47de-9c61-96c4a85bd38b"
      },
      "execution_count": null,
      "outputs": [
        {
          "output_type": "stream",
          "name": "stdout",
          "text": [
            "σ(0.25) = 0.5622\n"
          ]
        }
      ]
    },
    {
      "cell_type": "markdown",
      "source": [
        " # №7 Значение производной функции сигмоиды σ'(z) для z = -3:\n"
      ],
      "metadata": {
        "id": "0Kn1Mfv8KpBZ"
      }
    },
    {
      "cell_type": "code",
      "source": [
        "import math\n",
        "\n",
        "# Задаем значение z\n",
        "z = -3\n",
        "\n",
        "# Вычисляем значение сигмоиды σ(z)\n",
        "sigmoid_z = 1 / (1 + math.exp(-z))\n",
        "\n",
        "# Вычисляем значение производной сигмоиды σ'(z)\n",
        "sigmoid_derivative_z = sigmoid_z * (1 - sigmoid_z)\n",
        "\n",
        "print(\"Значение производной функции сигмоиды σ'(-3) ≈ {:.4f}\".format(sigmoid_derivative_z))\n",
        "\n"
      ],
      "metadata": {
        "colab": {
          "base_uri": "https://localhost:8080/"
        },
        "id": "nKPekRpwKw0z",
        "outputId": "3aff7641-a43f-408d-a622-07bdd6c7bd7a"
      },
      "execution_count": null,
      "outputs": [
        {
          "output_type": "stream",
          "name": "stdout",
          "text": [
            "Значение производной функции сигмоиды σ'(-3) ≈ 0.0452\n"
          ]
        }
      ]
    },
    {
      "cell_type": "markdown",
      "source": [
        "# №8 Классификация по логистической модели для z = 0.1 с порогом 0.6:"
      ],
      "metadata": {
        "id": "qsolMqwZKzzm"
      }
    },
    {
      "cell_type": "code",
      "source": [
        "import math\n",
        "\n",
        "# Задаем значение z\n",
        "z = 0.1\n",
        "\n",
        "# Вычисляем значение сигмоиды σ(z)\n",
        "sigmoid_z = 1 / (1 + math.exp(-z))\n",
        "\n",
        "# Задаем порог\n",
        "threshold = 0.6\n",
        "\n",
        "# Классификация на основе порога\n",
        "if sigmoid_z >= threshold:\n",
        "    classification = 1\n",
        "else:\n",
        "    classification = 0\n",
        "\n",
        "print(f\"Для z = 0.1 и порога {threshold}:\")\n",
        "print(f\"Значение сигмоиды σ(0.1) = {sigmoid_z}\")\n",
        "print(f\"Классификация: {classification}\")\n"
      ],
      "metadata": {
        "colab": {
          "base_uri": "https://localhost:8080/"
        },
        "id": "z0X-Xv2xK9hq",
        "outputId": "5f658948-bfdd-4c79-be98-36537712a1eb"
      },
      "execution_count": null,
      "outputs": [
        {
          "output_type": "stream",
          "name": "stdout",
          "text": [
            "Для z = 0.1 и порога 0.6:\n",
            "Значение сигмоиды σ(0.1) = 0.52497918747894\n",
            "Классификация: 0\n"
          ]
        }
      ]
    },
    {
      "cell_type": "markdown",
      "source": [
        "#№9 Значение бинарной кросс-энтропии для предсказания y' = 0.1 и целевой переменной y = 1, где y' - это предсказание модели y:*\n",
        "   L(y, y') = -y * log(y') - (1 - y) * log(1 - y') = -1 * log(0.1) - (1 - 1) * log(0.9) ≈ 2.3026\n",
        "\n",
        "Решение на Python:"
      ],
      "metadata": {
        "id": "JUX2FO06Lsj1"
      }
    },
    {
      "cell_type": "code",
      "source": [
        "import math\n",
        "\n",
        "y = 1\n",
        "y_pred = 0.1\n",
        "\n",
        "# Вычисление значения бинарной кросс-энтропии\n",
        "L = -y * math.log(y_pred) - (1 - y) * math.log(1 - y_pred)\n",
        "print(L)\n"
      ],
      "metadata": {
        "colab": {
          "base_uri": "https://localhost:8080/"
        },
        "id": "-oH2_mypLyu7",
        "outputId": "438990aa-48bf-4fc8-8f48-0d8631eae3e5"
      },
      "execution_count": null,
      "outputs": [
        {
          "output_type": "stream",
          "name": "stdout",
          "text": [
            "2.3025850929940455\n"
          ]
        }
      ]
    },
    {
      "cell_type": "code",
      "source": [],
      "metadata": {
        "id": "a_RNnrOhMHrr"
      },
      "execution_count": null,
      "outputs": []
    }
  ]
}